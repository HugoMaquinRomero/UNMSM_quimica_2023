{
  "nbformat": 4,
  "nbformat_minor": 0,
  "metadata": {
    "colab": {
      "provenance": [],
      "authorship_tag": "ABX9TyNTNR9IZCaX3NPberZv6Ay3",
      "include_colab_link": true
    },
    "kernelspec": {
      "name": "python3",
      "display_name": "Python 3"
    },
    "language_info": {
      "name": "python"
    },
    "widgets": {
      "application/vnd.jupyter.widget-state+json": {
        "67472db7c2b64c29bfe45e3beda64b99": {
          "model_module": "faerun-notebook",
          "model_name": "SmilesDrawerModel",
          "model_module_version": "^0.1.5",
          "state": {
            "_dom_classes": [],
            "_model_module": "faerun-notebook",
            "_model_module_version": "^0.1.5",
            "_model_name": "SmilesDrawerModel",
            "_view_count": null,
            "_view_module": "faerun-notebook",
            "_view_module_version": "^0.1.5",
            "_view_name": "SmilesDrawerView",
            "background": "#1e1e1e",
            "border": true,
            "layout": "IPY_MODEL_8a7412a67dd14aa0a2939cb4a0742819",
            "options": {
              "scale": 1.25
            },
            "output": "svg",
            "theme": "dark",
            "value": [
              [
                "Rxn",
                "C(C1C(C(C(C(O1)O)O)O)O)O.O=O>>C(=O)=O.O"
              ]
            ]
          }
        },
        "8a7412a67dd14aa0a2939cb4a0742819": {
          "model_module": "@jupyter-widgets/base",
          "model_name": "LayoutModel",
          "model_module_version": "1.2.0",
          "state": {
            "_model_module": "@jupyter-widgets/base",
            "_model_module_version": "1.2.0",
            "_model_name": "LayoutModel",
            "_view_count": null,
            "_view_module": "@jupyter-widgets/base",
            "_view_module_version": "1.2.0",
            "_view_name": "LayoutView",
            "align_content": null,
            "align_items": null,
            "align_self": null,
            "border": null,
            "bottom": null,
            "display": null,
            "flex": null,
            "flex_flow": null,
            "grid_area": null,
            "grid_auto_columns": null,
            "grid_auto_flow": null,
            "grid_auto_rows": null,
            "grid_column": null,
            "grid_gap": null,
            "grid_row": null,
            "grid_template_areas": null,
            "grid_template_columns": null,
            "grid_template_rows": null,
            "height": null,
            "justify_content": null,
            "justify_items": null,
            "left": null,
            "margin": null,
            "max_height": null,
            "max_width": null,
            "min_height": null,
            "min_width": null,
            "object_fit": null,
            "object_position": null,
            "order": null,
            "overflow": null,
            "overflow_x": null,
            "overflow_y": null,
            "padding": null,
            "right": null,
            "top": null,
            "visibility": null,
            "width": null
          }
        }
      }
    }
  },
  "cells": [
    {
      "cell_type": "markdown",
      "metadata": {
        "id": "view-in-github",
        "colab_type": "text"
      },
      "source": [
        "<a href=\"https://colab.research.google.com/github/HugoMaquinRomero/UNMSM_quimica_2023/blob/main/quimica_pc_1.ipynb\" target=\"_parent\"><img src=\"https://colab.research.google.com/assets/colab-badge.svg\" alt=\"Open In Colab\"/></a>"
      ]
    },
    {
      "cell_type": "markdown",
      "source": [
        "$$\\Large \\textit{UNMSM | Química}$$\n",
        "$$\\large \\textbf{PC Nº1 | Materia y clasificación}$$\n",
        "\n",
        "_Profesor: Jesus Alvarado Huayhuaz_"
      ],
      "metadata": {
        "id": "sDJAjbaQOj4x"
      }
    },
    {
      "cell_type": "markdown",
      "source": [
        "Todas las indicaciones para la presentación de la práctica son explicadas en clase y brindadas en el material de enunciado de preguntas en formato PDF."
      ],
      "metadata": {
        "id": "_DsTzWLoP7Fy"
      }
    },
    {
      "cell_type": "markdown",
      "source": [
        "## Pregunta 1: Sobre el ABC de python (4 puntos)"
      ],
      "metadata": {
        "id": "obD7c2igOD6t"
      }
    },
    {
      "cell_type": "markdown",
      "source": [
        "Durante la semana de revisión del material \"ABC de python\", reflexiona sobre qué conceptos aprendiste con claridad y cuáles consideras los más desafiantes. A continuación resuelve los siguiente ejercicios, puedes ayudarte del material en http://bit.ly/3YKICSZ."
      ],
      "metadata": {
        "id": "emt93S7dL7QH"
      }
    },
    {
      "cell_type": "code",
      "source": [
        "# Imprime la versión de python que usas y las palabras reservadas de python para esa versión.\n",
        "!python --version"
      ],
      "metadata": {
        "id": "6mJvqMN0LTU8",
        "colab": {
          "base_uri": "https://localhost:8080/"
        },
        "outputId": "fddb8478-ae9f-432f-bf0b-da366d06548b"
      },
      "execution_count": 86,
      "outputs": [
        {
          "output_type": "stream",
          "name": "stdout",
          "text": [
            "Python 3.10.12\n"
          ]
        }
      ]
    },
    {
      "cell_type": "code",
      "source": [
        "# Crea una matriz de 3x3 e imprime la suma de los elementos en su diagonal (traza).\n",
        "matriz=[\n",
        "    [2, 3, 4],\n",
        "    [1, 4, 1],\n",
        "    [7, 8, 9]\n",
        "]\n",
        "\n",
        "suma_diagonal = matriz[0][0] + matriz[1][1] + matriz[2][2]\n",
        "\n",
        "print(\"Suma de la diagonal:\", suma_diagonal)"
      ],
      "metadata": {
        "id": "MxDzGypdLTXh",
        "colab": {
          "base_uri": "https://localhost:8080/"
        },
        "outputId": "206ee29c-c88e-45bb-83e4-77b07d0ad216"
      },
      "execution_count": null,
      "outputs": [
        {
          "output_type": "stream",
          "name": "stdout",
          "text": [
            "Suma de la diagonal: 15\n"
          ]
        }
      ]
    },
    {
      "cell_type": "code",
      "source": [
        "# Guarda como variable la masa atómica de los elementos C, H y O, e imprime la masa molecular del etanol.\n",
        "masa_atomica_C= 12.0107\n",
        "masa_atomica_H= 1.0079\n",
        "masa_atomica_O= 15.9994\n",
        "\n",
        "#Formula del etanol C2H5OH\n",
        "masa_molecular_etanol=(masa_atomica_C*2) + (masa_atomica_H*5) + (masa_atomica_O*1) + (masa_atomica_H*1)\n",
        "\n",
        "print(\"Masa molecular del etanol:\", masa_molecular_etanol)"
      ],
      "metadata": {
        "id": "MyhNX7JmLTSe",
        "colab": {
          "base_uri": "https://localhost:8080/"
        },
        "outputId": "c1c8d6a9-d5c5-447d-a05a-9829a6eef359"
      },
      "execution_count": 110,
      "outputs": [
        {
          "output_type": "stream",
          "name": "stdout",
          "text": [
            "Masa molecular del etanol: 46.0682\n"
          ]
        }
      ]
    },
    {
      "cell_type": "code",
      "source": [
        "# Busca la temperatura de fusión en Celsius de 5 metales y guárdalos en una lista. Imprime las temperaturas en Kelvin\n",
        "metales = [\n",
        "    (\"Plata\", 961.8),\n",
        "    (\"Cobre\", 1084.62),\n",
        "    (\"Hierro\", 1538),\n",
        "    (\"Aluminio\", 660.32),\n",
        "    (\"Zinc\", 419.53)\n",
        "]\n",
        "\n",
        "def celsius_a_kelvin(celsius):\n",
        "    return celsius + 273.15\n",
        "\n",
        "print(\"Temperaturas de fusión:\")\n",
        "for metal, celsius in metales:\n",
        "    kelvin = celsius_a_kelvin(celsius)\n",
        "    print(f\"{metal}: {kelvin:.2f} K\")"
      ],
      "metadata": {
        "id": "NCOnJ0FwgLLc",
        "colab": {
          "base_uri": "https://localhost:8080/"
        },
        "outputId": "2b684ad5-040e-49d0-a13a-c523c7aaeb2e"
      },
      "execution_count": 85,
      "outputs": [
        {
          "output_type": "stream",
          "name": "stdout",
          "text": [
            "Temperaturas de fusión:\n",
            "Plata: 1234.95 K\n",
            "Cobre: 1357.77 K\n",
            "Hierro: 1811.15 K\n",
            "Aluminio: 933.47 K\n",
            "Zinc: 692.68 K\n"
          ]
        }
      ]
    },
    {
      "cell_type": "markdown",
      "source": [
        "## Pregunta 2: Operaciones (4 puntos)"
      ],
      "metadata": {
        "id": "epzOadagLfPi"
      }
    },
    {
      "cell_type": "markdown",
      "source": [
        "Escribe un programa que lea repetidamente elementos químicos en español hasta que el usuario introduzca “fin”. Una vez se haya introducido “fin”, muestra por pantalla (o sea imprime) el total de elementos ingresados. Si el usuario introduce cualquier otra cosa que no sea un elemento químico, detecta su fallo usando try y except, muestra un mensaje de error y pasa al siguiente elemento."
      ],
      "metadata": {
        "id": "MbAEOGPsjOWZ"
      }
    },
    {
      "cell_type": "code",
      "source": [
        "elementos_quimicos = [\n",
        "    \"hidrógeno\", \"helio\", \"litio\", \"berilio\", \"boro\", \"carbono\",\n",
        "    \"nitrógeno\", \"oxígeno\", \"flúor\", \"neón\", \"sodio\", \"magnesio\",\n",
        "    \"aluminio\", \"silicio\", \"fósforo\", \"azufre\", \"cloro\", \"argón\",\n",
        "    \"potasio\", \"calcio\", \"escandio\", \"titanio\", \"vanadio\", \"cromo\",\n",
        "    \"manganeso\", \"hierro\", \"cobalto\", \"níquel\", \"cobre\", \"cinc\",\n",
        "    \"galio\", \"germanio\", \"arsénico\", \"selenio\", \"bromo\", \"criptón\",\n",
        "    \"rubidio\", \"estroncio\", \"itrio\", \"circonio\", \"niobio\", \"molibdeno\",\n",
        "    \"tecnecio\", \"rutenio\", \"rodio\", \"paladio\", \"plata\", \"cadmio\",\n",
        "    \"indio\", \"estaño\", \"antimonio\", \"telurio\", \"yodo\", \"xenón\"\n",
        "]\n",
        "\n",
        "elementos_ingresados = []\n",
        "\n",
        "while True:\n",
        "    elemento_ingresado = input(\"Introduce un elemento químico (o 'fin' para terminar): \").lower()\n",
        "\n",
        "    if elemento_ingresado == 'fin':\n",
        "        break\n",
        "\n",
        "    if elemento_ingresado in elementos_quimicos:\n",
        "        elementos_ingresados.append(elemento_ingresado)\n",
        "        print(f\"{elemento_ingresado.capitalize()} es un elemento químico válido.\")\n",
        "    else:\n",
        "        print(f\"{elemento_ingresado.capitalize()} no es un elemento químico válido.\")\n",
        "\n",
        "    if elemento_ingresado in elementos_quimicos:\n",
        "        elementos_ingresados.append(elemento_ingresado)\n",
        "    else:\n",
        "        print(\"Error: Ese no es un elemento químico válido.\")\n",
        "\n",
        "\n",
        "print(\"\\nTotal de elementos ingresados:\", len(elementos_ingresados))\n"
      ],
      "metadata": {
        "id": "_E1huMDC_eBX"
      },
      "execution_count": null,
      "outputs": []
    },
    {
      "cell_type": "markdown",
      "source": [
        "# Pregunta 3: Conservación de la masa (4 puntos)"
      ],
      "metadata": {
        "id": "8gxSHpD3LZsh"
      }
    },
    {
      "cell_type": "markdown",
      "source": [
        "### Código necesario para generar la imagen"
      ],
      "metadata": {
        "id": "mMV9c3hDl7KL"
      }
    },
    {
      "cell_type": "code",
      "source": [
        "!pip install faerun-notebook==0.1.5b0\n",
        "\n",
        "import ipywidgets as widgets\n",
        "from faerun_notebook import SmilesDrawer\n",
        "from google.colab import output\n",
        "output.enable_custom_widget_manager()"
      ],
      "metadata": {
        "id": "JgF8Ohtbky65"
      },
      "execution_count": null,
      "outputs": []
    },
    {
      "cell_type": "markdown",
      "source": [
        "### Reacción química"
      ],
      "metadata": {
        "id": "5sLC10D_oSrV"
      }
    },
    {
      "cell_type": "markdown",
      "source": [
        "Demuestra cómo se cumple la conservación de la masa en la siguiente reacción química. Sugerencia: hacer un balance estequiométrico y luego emplear la masa molecular de reactivos y productos."
      ],
      "metadata": {
        "id": "OVRhAzaVmD86"
      }
    },
    {
      "cell_type": "code",
      "source": [
        "SmilesDrawer(value=[(\"Rxn\", \"C(C1C(C(C(C(O1)O)O)O)O)O.O=O>>C(=O)=O.O\")], theme='dark', background=\"#1e1e1e\", options={'scale': 1.25})"
      ],
      "metadata": {
        "colab": {
          "base_uri": "https://localhost:8080/",
          "height": 288,
          "referenced_widgets": [
            "67472db7c2b64c29bfe45e3beda64b99",
            "8a7412a67dd14aa0a2939cb4a0742819"
          ]
        },
        "outputId": "22d0b239-259b-475c-c085-561899eceff1",
        "id": "MvePmJIlfYVj"
      },
      "execution_count": 84,
      "outputs": [
        {
          "output_type": "display_data",
          "data": {
            "text/plain": [
              "SmilesDrawer(background='#1e1e1e', options={'scale': 1.25}, theme='dark', value=[('Rxn', 'C(C1C(C(C(C(O1)O)O)O…"
            ],
            "application/vnd.jupyter.widget-view+json": {
              "version_major": 2,
              "version_minor": 0,
              "model_id": "67472db7c2b64c29bfe45e3beda64b99"
            }
          },
          "metadata": {
            "application/vnd.jupyter.widget-view+json": {
              "colab": {
                "custom_widget_manager": {
                  "url": "https://ssl.gstatic.com/colaboratory-static/widgets/colab-cdn-widget-manager/b3e629b1971e1542/manager.min.js"
                }
              }
            }
          }
        }
      ]
    },
    {
      "cell_type": "code",
      "source": [
        "#tenemos C(C1C(C(C(C(O1)O)O)O)O)O.O=O>>C(=O)=O.O\n",
        "#balanceado es = C6H12O6 + 6O2 → 6CO2 + 6H2O\n",
        "#Reactivos masa molecular:\n",
        "Carbono_R= 12.0107\n",
        "Hidrogeno_R= 1.0079\n",
        "oxigeno_R= 15.999\n",
        "\n",
        "reactivos_masa_total=((Carbono_R*6)+(Hidrogeno_R*12)+(oxigeno_R*6))+(6*(oxigeno_R*2))\n",
        "print(\"Masa totales Reactivos:\",reactivos_masa_total)\n",
        "\n",
        "#Productos masa molecular:\n",
        "\n",
        "Carbono_P= 12.0107\n",
        "Hidrogeno_P= 1.0079\n",
        "oxigeno_P= 15.999\n",
        "productos_masa_total=(6*Carbono_P*1)+(6*oxigeno_P*2)+(6*Hidrogeno_P*2)+(6*oxigeno_P*1)\n",
        "print(\"Masa totales Productos:\",productos_masa_total)\n",
        "\n",
        "if abs(reactivos_masa_total-productos_masa_total) < 0.1:\n",
        "   print(\"La conservación de la masa cumple.\")\n",
        "else:\n",
        "   print(\"La conservación de la masa no se cumple.\")"
      ],
      "metadata": {
        "colab": {
          "base_uri": "https://localhost:8080/"
        },
        "id": "1O8cptibqi6Q",
        "outputId": "151067d7-b857-47b1-b0d3-097c265e27e6"
      },
      "execution_count": 113,
      "outputs": [
        {
          "output_type": "stream",
          "name": "stdout",
          "text": [
            "Masa totales Reactivos: 372.14099999999996\n",
            "Masa totales Productos: 372.14099999999996\n",
            "La conservación de la masa cumple.\n"
          ]
        }
      ]
    },
    {
      "cell_type": "markdown",
      "source": [
        "## Pregunta 4: Notación científica (4 puntos)"
      ],
      "metadata": {
        "id": "Rh-nAUiKhJNB"
      }
    },
    {
      "cell_type": "markdown",
      "source": [
        "Imprime las siguientes operaciones según la notación científica:\n",
        "\n",
        "(1) $1.321 \\times 10^{-4} + 8.5 \\times 10^{-2}$\n",
        "\n",
        "(2) $1.71 \\times 10^{3} - 2.01 \\times 10^{2}\\$\n",
        "\n",
        "(3) $(7.4 \\times 10^5)(7.2 \\times 10^4)$\n",
        "\n",
        "(4) $(7.4 \\times 10^5)/(7.2 \\times 10^4)$"
      ],
      "metadata": {
        "id": "NIkI45Xdqqnt"
      }
    },
    {
      "cell_type": "code",
      "source": [
        "#EJERCICIO 1\n",
        "suma_1= (1.321*10**-4) + (8.5*10**-2)\n",
        "print(\"EJERCICIO 1:\",suma_1)\n",
        "\n",
        "#EJERCICIO 2\n",
        "suma_2= (1.71*10**3) - (2.01*10**2)\n",
        "print(\"EJERCICIO 2:\",suma_2)\n",
        "\n",
        "#EJERCICIO 3\n",
        "suma_3= (7.4*10**5) * (7.2*10**4)\n",
        "print(\"EJERCICIO 3:\",suma_3)\n",
        "\n",
        "#EJERCICIO 4\n",
        "suma_4= (7.4*10**5) / (7.2*10**4)\n",
        "print(\"EJERCICIO 4:\",suma_4)"
      ],
      "metadata": {
        "colab": {
          "base_uri": "https://localhost:8080/"
        },
        "id": "tVbhvGT5gGQl",
        "outputId": "79f938fe-fb65-4066-86ef-3dc1e4376163"
      },
      "execution_count": null,
      "outputs": [
        {
          "output_type": "stream",
          "name": "stdout",
          "text": [
            "EJERCICIO 1: 0.0851321\n",
            "EJERCICIO 2: 1509.0\n",
            "EJERCICIO 3: 53280000000.0\n",
            "EJERCICIO 4: 10.277777777777779\n"
          ]
        }
      ]
    },
    {
      "cell_type": "markdown",
      "source": [
        "## Pregunta 5: Método científico (4 puntos)"
      ],
      "metadata": {
        "id": "CuzCcXJghR14"
      }
    },
    {
      "cell_type": "markdown",
      "source": [
        "Artículo: https://bit.ly/3surZ1W\n",
        "Leer el siguiente artículo y explica cómo es aplicado el método científico. Emplea como máximo 300 palabras."
      ],
      "metadata": {
        "id": "WngRSR-Rhmx1"
      }
    },
    {
      "cell_type": "markdown",
      "source": [
        "Se descubrió un material llamado LK-99 que se pensaba podría ser capaz de conducir electricidad sin resistencia a temperaturas normales. Algunos científicos de Corea del Sur dijeron que creían que LK-99 era un conductor especial a esas temperaturas y compartieron sus ideas. Esto hizo que otros científicos se interesaran y trataran de hacer los mismos experimentos para verificarlo. Diferentes equipos de científicos intentaron hacer pruebas para ver si LK-99 realmente tenía esta propiedad especial midiendo cómo conducía la electricidad y cómo reaccionaba a los campos magnéticos. Luego, se analizaron los resultados de estos experimentos para ver si el material realmente tenía la capacidad de ser un conductor especial. Al final, después de mucha investigación, se descubrió que LK-99 en realidad no era un conductor especial a temperaturas normales, sino que actuaba como un aislante, es decir, no conducía bien la electricidad. Se descubrió que la razón por la que parecía especial era debido a ciertas partículas no deseadas en el material. Toda esta información se compartió con otros científicos a través de documentos y artículos científicos, y esos científicos revisaron y evaluaron la información para asegurarse de que fuera precisa y confiable."
      ],
      "metadata": {
        "id": "I-C5EVSpEA19"
      }
    }
  ]
}