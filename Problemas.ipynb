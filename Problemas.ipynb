{
  "nbformat": 4,
  "nbformat_minor": 0,
  "metadata": {
    "colab": {
      "provenance": [],
      "authorship_tag": "ABX9TyNlbfEGNerXTWzH6JMq+jAA",
      "include_colab_link": true
    },
    "kernelspec": {
      "name": "python3",
      "display_name": "Python 3"
    },
    "language_info": {
      "name": "python"
    }
  },
  "cells": [
    {
      "cell_type": "markdown",
      "metadata": {
        "id": "view-in-github",
        "colab_type": "text"
      },
      "source": [
        "<a href=\"https://colab.research.google.com/github/HugoMaquinRomero/UNMSM_quimica_2023/blob/main/Untitled3.ipynb\" target=\"_parent\"><img src=\"https://colab.research.google.com/assets/colab-badge.svg\" alt=\"Open In Colab\"/></a>"
      ]
    },
    {
      "cell_type": "markdown",
      "source": [
        "## Problemas de Estado Gaseoso"
      ],
      "metadata": {
        "id": "7s69KFT9Gvfn"
      }
    },
    {
      "cell_type": "markdown",
      "source": [
        "Problemas 1:\n",
        "Un recipiente cerrado a 25 °C y 1 atm de presión contiene 1,5 moles de hidrógeno gaseoso. ¿Cuál es el volumen del recipiente?"
      ],
      "metadata": {
        "id": "Yd4Eb8YqGnwU"
      }
    },
    {
      "cell_type": "code",
      "execution_count": 4,
      "metadata": {
        "colab": {
          "base_uri": "https://localhost:8080/"
        },
        "id": "QfrdR072EYjp",
        "outputId": "0876c010-6c1d-4778-f164-e086e9ccc3ae"
      },
      "outputs": [
        {
          "output_type": "stream",
          "name": "stdout",
          "text": [
            "El volumen del gas es: 33.599999999999994 litros\n"
          ]
        }
      ],
      "source": [
        "def ley_de_avogadro(n_moles):\n",
        "\n",
        "  \"\"\"\n",
        "  Calcula el volumen de un gas a partir del número de moles.\n",
        "  Args:\n",
        "    n_moles: Número de moles del gas.\n",
        "  Returns:\n",
        "    Volumen del gas.\n",
        "  \"\"\"\n",
        "  return 22.4 * n_moles\n",
        "\n",
        "\n",
        "if __name__ == \"__main__\":\n",
        "  # Datos del problema\n",
        "  n_moles = 1.5\n",
        "\n",
        "  # Calculamos el volumen del gas\n",
        "  volumen = ley_de_avogadro(n_moles)\n",
        "\n",
        "  # Imprimimos el resultado\n",
        "  print(\"El volumen del gas es:\", volumen, \"litros\")\n",
        "\n"
      ]
    },
    {
      "cell_type": "markdown",
      "source": [
        "Problema 2:\n",
        "El etanol(C2H5OH) se quema en el aire:\n",
        "\n",
        "   C2H5OH(l)+O2(g) --> CO2(g) + H2O(l)\n",
        "\n",
        "usando lo estos dato haga  el balanceo de la ecuacion y determine el volumen de aire en litros a 35.0°C y 790 mmHg que se requiere para quemar 227 g de etanol. Suponga que el aire contiene 21.0% de O2 en volumen."
      ],
      "metadata": {
        "id": "ei_PBrHPKY7m"
      }
    },
    {
      "cell_type": "code",
      "source": [
        "# Datos proporcionados\n",
        "masa_etanol = 227  # en gramos\n",
        "fraccion_O2_en_aire = 0.21\n",
        "temperatura = 35.0 + 273.15  # Convertir a Kelvin\n",
        "presion = 790 / 760  # Convertir de mmHg a atmósferas\n",
        "\n",
        "# Masa molar del etanol\n",
        "masa_molar_etanol = 2 * 12.01 + 6 * 1.01 + 1 * 16.00 + 1 * 1.01\n",
        "\n",
        "# Calcular moles de etanol\n",
        "moles_etanol = masa_etanol / masa_molar_etanol\n",
        "\n",
        "# Calcular moles de O2 requeridos\n",
        "moles_O2_requeridos = moles_etanol * 3\n",
        "\n",
        "# Calcular volumen de aire necesario a las condiciones dadas\n",
        "volumen_aire = moles_O2_requeridos / fraccion_O2_en_aire\n",
        "\n",
        "# Ajustar a condiciones estándar de temperatura y presión (STP)\n",
        "volumen_aire_stp = volumen_aire * (temperatura / 273.15) * (1 / presion)\n",
        "\n",
        "print(f\"Volumen de aire necesario a STP: {volumen_aire_stp:.2f} litros\")"
      ],
      "metadata": {
        "colab": {
          "base_uri": "https://localhost:8080/"
        },
        "id": "UVtIXiwYMFrE",
        "outputId": "1dd51db2-b426-4b98-886e-ea30d513569e"
      },
      "execution_count": 10,
      "outputs": [
        {
          "output_type": "stream",
          "name": "stdout",
          "text": [
            "Volumen de aire necesario a STP: 74.74 litros\n"
          ]
        }
      ]
    }
  ]
}
